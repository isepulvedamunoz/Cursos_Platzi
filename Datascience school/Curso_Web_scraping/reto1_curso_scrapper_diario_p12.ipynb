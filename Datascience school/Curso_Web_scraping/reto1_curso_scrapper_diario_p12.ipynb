{
 "cells": [
  {
   "cell_type": "code",
   "execution_count": 50,
   "metadata": {},
   "outputs": [],
   "source": [
    "import requests\n",
    "from bs4 import BeautifulSoup"
   ]
  },
  {
   "cell_type": "code",
   "execution_count": 51,
   "metadata": {},
   "outputs": [],
   "source": [
    "link = 'https://pagina12.com.ar/secciones/deportes'\n",
    "p12 = requests.get(link)"
   ]
  },
  {
   "cell_type": "code",
   "execution_count": 83,
   "metadata": {},
   "outputs": [],
   "source": [
    "soup = BeautifulSoup(p12.text, 'lxml')"
   ]
  },
  {
   "cell_type": "code",
   "execution_count": 85,
   "metadata": {},
   "outputs": [],
   "source": [
    "news = soup.find_all('div', attrs={'class':'article-item__content'})"
   ]
  },
  {
   "cell_type": "code",
   "execution_count": 86,
   "metadata": {},
   "outputs": [
    {
     "data": {
      "text/plain": [
       "['https://www.pagina12.com.ar/308655-el-homenaje-emotivo-de-los-all-blacks-a-diego-maradona',\n",
       " 'https://www.pagina12.com.ar/308648-los-pumas-perdieron-ante-los-all-blacks',\n",
       " 'https://www.pagina12.com.ar/308441-deshonesto-diego-armando-maradona',\n",
       " 'https://www.pagina12.com.ar/308484-maradona-un-amor-coherente-con-un-feminismo-que-abre-debates',\n",
       " 'https://www.pagina12.com.ar/308530-diego-maradona-con-su-corazon-en-la-boca',\n",
       " 'https://www.pagina12.com.ar/308542-el-dia-que-la-dictadura-de-videla-impidio-el-pase-de-maradon',\n",
       " 'https://www.pagina12.com.ar/308569-joan-laporta-busca-volver-a-la-presidencia-del-barcelona',\n",
       " 'https://www.pagina12.com.ar/308570-del-potro-reconocio-que-le-esta-costando-regresar-al-tenis',\n",
       " 'https://www.pagina12.com.ar/308571-cuando-boca-puso-de-rodillas-al-real-madrid',\n",
       " 'https://www.pagina12.com.ar/308572-palermo-ya-es-el-nuevo-tecnico-de-curico-unido-de-chile',\n",
       " 'https://www.pagina12.com.ar/308573-boca-campeon-intercontinental-una-epopeya-que-merecia-un-lib']"
      ]
     },
     "execution_count": 86,
     "metadata": {},
     "output_type": "execute_result"
    }
   ],
   "source": [
    "links_news = [new.a.get('href') for new in news]\n",
    "links_news"
   ]
  },
  {
   "cell_type": "code",
   "execution_count": null,
   "metadata": {},
   "outputs": [],
   "source": []
  }
 ],
 "metadata": {
  "kernelspec": {
   "display_name": "Python 3",
   "language": "python",
   "name": "python3"
  },
  "language_info": {
   "codemirror_mode": {
    "name": "ipython",
    "version": 3
   },
   "file_extension": ".py",
   "mimetype": "text/x-python",
   "name": "python",
   "nbconvert_exporter": "python",
   "pygments_lexer": "ipython3",
   "version": "3.8.5"
  }
 },
 "nbformat": 4,
 "nbformat_minor": 4
}
